{
  "nbformat": 4,
  "nbformat_minor": 0,
  "metadata": {
    "colab": {
      "provenance": [],
      "collapsed_sections": []
    },
    "kernelspec": {
      "name": "python3",
      "display_name": "Python 3"
    },
    "language_info": {
      "name": "python"
    }
  },
  "cells": [
    {
      "cell_type": "markdown",
      "source": [
        "# **Disaster Dataset (Easy)**\n",
        "\n",
        "By: Wen Yang, Yun Xuan, Lotus, Justin \n",
        "\n",
        "Objective: A binary classification problem. Given a dataset that contains the details surrounding the sinking of a ship. Using this, we will predict if a person is likely to survive the disaster.\n",
        "\n",
        "# Project Outline \n",
        "\n",
        "## Data Preprocessing: \n",
        "\n",
        "1) Importing dataset\n",
        "\n",
        "2) Dealing with null values\n",
        "\n",
        "3) Transformation of Numeric Features\n",
        "\n",
        "## Descriptive Statistics\n",
        "\n",
        "## Data Modelling: \n",
        "\n",
        "1) Logistic Regression \n",
        "\n",
        "2) Decision Tree, Random Forest, XGBoost \n",
        "\n",
        "3) Neural Network \n",
        "\n",
        "\n",
        "\n",
        "\n"
      ],
      "metadata": {
        "id": "gU7OT0oS06_A"
      }
    },
    {
      "cell_type": "code",
      "execution_count": 3,
      "metadata": {
        "id": "6Z7fVS04NNln"
      },
      "outputs": [],
      "source": [
        "import pandas as pd\n",
        "import matplotlib.pyplot as plt\n",
        "import numpy as np\n",
        "import math\n",
        "import seaborn as sns\n",
        "from sklearn.preprocessing import StandardScaler\n",
        "from sklearn.preprocessing import OneHotEncoder\n",
        "from sklearn.model_selection import train_test_split\n",
        "from sklearn.linear_model import LogisticRegression\n",
        "from sklearn.metrics import classification_report\n",
        "from sklearn import metrics\n",
        "from sklearn.model_selection import RandomizedSearchCV\n",
        "from sklearn.ensemble import RandomForestClassifier\n",
        "from sklearn.model_selection import GridSearchCV\n",
        "import xgboost\n",
        "from sklearn.ensemble import VotingClassifier\n",
        "import tensorflow as tf\n",
        "from tensorflow import keras\n",
        "from tensorflow.keras import layers\n",
        "import string\n",
        "from sklearn.metrics import f1_score"
      ]
    },
    {
      "cell_type": "markdown",
      "source": [
        "# Loading the Dataset"
      ],
      "metadata": {
        "id": "ZsZlCjEI4yFp"
      }
    },
    {
      "cell_type": "code",
      "source": [
        "data = pd.read_csv('/content/data.csv',index_col = [0])"
      ],
      "metadata": {
        "id": "fWtS8L61Oohd"
      },
      "execution_count": 4,
      "outputs": []
    },
    {
      "cell_type": "markdown",
      "source": [
        "# Checking dataset features and types"
      ],
      "metadata": {
        "id": "Yz_qGVxc42Ow"
      }
    },
    {
      "cell_type": "code",
      "source": [
        "data.info()"
      ],
      "metadata": {
        "colab": {
          "base_uri": "https://localhost:8080/"
        },
        "id": "LhnKxTUNOzfa",
        "outputId": "846bfa01-2645-420e-d230-891d5f5e21f8"
      },
      "execution_count": 5,
      "outputs": [
        {
          "output_type": "stream",
          "name": "stdout",
          "text": [
            "<class 'pandas.core.frame.DataFrame'>\n",
            "Int64Index: 866 entries, 0 to 865\n",
            "Data columns (total 11 columns):\n",
            " #   Column              Non-Null Count  Dtype  \n",
            "---  ------              --------------  -----  \n",
            " 0   Id                  866 non-null    int64  \n",
            " 1   class               866 non-null    int64  \n",
            " 2   num_sibling/spouse  866 non-null    int64  \n",
            " 3   num_parent/child    866 non-null    int64  \n",
            " 4   ticket              866 non-null    object \n",
            " 5   price               866 non-null    float64\n",
            " 6   Seat                198 non-null    object \n",
            " 7   departure_from      864 non-null    object \n",
            " 8   gender              866 non-null    object \n",
            " 9   alive               866 non-null    int64  \n",
            " 10  age                 692 non-null    float64\n",
            "dtypes: float64(2), int64(5), object(4)\n",
            "memory usage: 81.2+ KB\n"
          ]
        }
      ]
    },
    {
      "cell_type": "markdown",
      "source": [
        "We observe that there are **11** columns of data in the dataset, with alive being our target variable\n",
        "\n",
        "Number of entries in the dataset: **866**"
      ],
      "metadata": {
        "id": "cmzxewhX5p8j"
      }
    },
    {
      "cell_type": "markdown",
      "source": [
        "# Checking for null values"
      ],
      "metadata": {
        "id": "K_-wFgJx5fhu"
      }
    },
    {
      "cell_type": "code",
      "source": [
        "data.isnull().sum()"
      ],
      "metadata": {
        "colab": {
          "base_uri": "https://localhost:8080/"
        },
        "id": "6GbWZEe3O1bx",
        "outputId": "3bc690da-7503-46bf-96fb-862fce74cac1"
      },
      "execution_count": 6,
      "outputs": [
        {
          "output_type": "execute_result",
          "data": {
            "text/plain": [
              "Id                      0\n",
              "class                   0\n",
              "num_sibling/spouse      0\n",
              "num_parent/child        0\n",
              "ticket                  0\n",
              "price                   0\n",
              "Seat                  668\n",
              "departure_from          2\n",
              "gender                  0\n",
              "alive                   0\n",
              "age                   174\n",
              "dtype: int64"
            ]
          },
          "metadata": {},
          "execution_count": 6
        }
      ]
    },
    {
      "cell_type": "markdown",
      "source": [
        "We observe that there are empty values in 3 different columns: \n",
        "\n",
        "*   seat\n",
        "*   departure_from\n",
        "*   age\n",
        "\n"
      ],
      "metadata": {
        "id": "IKWH5cZu5DQ-"
      }
    },
    {
      "cell_type": "code",
      "source": [
        "data.groupby('alive')['alive'].count().plot(kind = 'bar')"
      ],
      "metadata": {
        "colab": {
          "base_uri": "https://localhost:8080/",
          "height": 293
        },
        "id": "oTOe0IqKBQWM",
        "outputId": "e6080d91-74b6-4db1-ffff-1a6423195f30"
      },
      "execution_count": 7,
      "outputs": [
        {
          "output_type": "execute_result",
          "data": {
            "text/plain": [
              "<matplotlib.axes._subplots.AxesSubplot at 0x7fe8d1cfbb10>"
            ]
          },
          "metadata": {},
          "execution_count": 7
        },
        {
          "output_type": "display_data",
          "data": {
            "text/plain": [
              "<Figure size 432x288 with 1 Axes>"
            ],
            "image/png": "[encoded data removed]"
          },
          "metadata": {
            "needs_background": "light"
          }
        }
      ]
    },
    {
      "cell_type": "markdown",
      "source": [
        "The proportion of those in class 1 to the entire dataset is ~40%. Our classifiers subsequently should minimally have a 40% true positive rate to be considered significant."
      ],
      "metadata": {
        "id": "cMI9-eXvBudS"
      }
    },
    {
      "cell_type": "markdown",
      "source": [
        "# Checking collinearity between variables. \n",
        "\n",
        "Highly correlated features might result in inaccurate weights as the correlated features are given greater importance. "
      ],
      "metadata": {
        "id": "UiDIGbn-vdwZ"
      }
    },
    {
      "cell_type": "code",
      "source": [
        "data.corr()"
      ],
      "metadata": {
        "colab": {
          "base_uri": "https://localhost:8080/",
          "height": 269
        },
        "id": "sH_xzGRHa0fO",
        "outputId": "94578e59-d2fa-4e4e-9f01-dab26ce610de"
      },
      "execution_count": 8,
      "outputs": [
        {
          "output_type": "execute_result",
          "data": {
            "text/plain": [
              "                          Id     class  num_sibling/spouse  num_parent/child  \\\n",
              "Id                  1.000000 -0.037940           -0.045220         -0.005782   \n",
              "class              -0.037940  1.000000            0.085394          0.014851   \n",
              "num_sibling/spouse -0.045220  0.085394            1.000000          0.424967   \n",
              "num_parent/child   -0.005782  0.014851            0.424967          1.000000   \n",
              "price               0.025964 -0.551861            0.157930          0.218607   \n",
              "alive              -0.002663 -0.334250           -0.041035          0.084858   \n",
              "age                 0.043193 -0.370110           -0.312569         -0.203935   \n",
              "\n",
              "                       price     alive       age  \n",
              "Id                  0.025964 -0.002663  0.043193  \n",
              "class              -0.551861 -0.334250 -0.370110  \n",
              "num_sibling/spouse  0.157930 -0.041035 -0.312569  \n",
              "num_parent/child    0.218607  0.084858 -0.203935  \n",
              "price               1.000000  0.256561  0.091529  \n",
              "alive               0.256561  1.000000 -0.077078  \n",
              "age                 0.091529 -0.077078  1.000000  "
            ],
            "text/html": [
              "\n",
              "  <div id=\"df-3c275c70-0398-4c9f-be6b-994080e87e7a\">\n",
              "    <div class=\"colab-df-container\">\n",
              "      <div>\n",
              "<style scoped>\n",
              "    .dataframe tbody tr th:only-of-type {\n",
              "        vertical-align: middle;\n",
              "    }\n",
              "\n",
              "    .dataframe tbody tr th {\n",
              "        vertical-align: top;\n",
              "    }\n",
              "\n",
              "    .dataframe thead th {\n",
              "        text-align: right;\n",
              "    }\n",
              "</style>\n",
              "<table border=\"1\" class=\"dataframe\">\n",
              "  <thead>\n",
              "    <tr style=\"text-align: right;\">\n",
              "      <th></th>\n",
              "      <th>Id</th>\n",
              "      <th>class</th>\n",
              "      <th>num_sibling/spouse</th>\n",
              "      <th>num_parent/child</th>\n",
              "      <th>price</th>\n",
              "      <th>alive</th>\n",
              "      <th>age</th>\n",
              "    </tr>\n",
              "  </thead>\n",
              "  <tbody>\n",
              "    <tr>\n",
              "      <th>Id</th>\n",
              "      <td>1.000000</td>\n",
              "      <td>-0.037940</td>\n",
              "      <td>-0.045220</td>\n",
              "      <td>-0.005782</td>\n",
              "      <td>0.025964</td>\n",
              "      <td>-0.002663</td>\n",
              "      <td>0.043193</td>\n",
              "    </tr>\n",
              "    <tr>\n",
              "      <th>class</th>\n",
              "      <td>-0.037940</td>\n",
              "      <td>1.000000</td>\n",
              "      <td>0.085394</td>\n",
              "      <td>0.014851</td>\n",
              "      <td>-0.551861</td>\n",
              "      <td>-0.334250</td>\n",
              "      <td>-0.370110</td>\n",
              "    </tr>\n",
              "    <tr>\n",
              "      <th>num_sibling/spouse</th>\n",
              "      <td>-0.045220</td>\n",
              "      <td>0.085394</td>\n",
              "      <td>1.000000</td>\n",
              "      <td>0.424967</td>\n",
              "      <td>0.157930</td>\n",
              "      <td>-0.041035</td>\n",
              "      <td>-0.312569</td>\n",
              "    </tr>\n",
              "    <tr>\n",
              "      <th>num_parent/child</th>\n",
              "      <td>-0.005782</td>\n",
              "      <td>0.014851</td>\n",
              "      <td>0.424967</td>\n",
              "      <td>1.000000</td>\n",
              "      <td>0.218607</td>\n",
              "      <td>0.084858</td>\n",
              "      <td>-0.203935</td>\n",
              "    </tr>\n",
              "    <tr>\n",
              "      <th>price</th>\n",
              "      <td>0.025964</td>\n",
              "      <td>-0.551861</td>\n",
              "      <td>0.157930</td>\n",
              "      <td>0.218607</td>\n",
              "      <td>1.000000</td>\n",
              "      <td>0.256561</td>\n",
              "      <td>0.091529</td>\n",
              "    </tr>\n",
              "    <tr>\n",
              "      <th>alive</th>\n",
              "      <td>-0.002663</td>\n",
              "      <td>-0.334250</td>\n",
              "      <td>-0.041035</td>\n",
              "      <td>0.084858</td>\n",
              "      <td>0.256561</td>\n",
              "      <td>1.000000</td>\n",
              "      <td>-0.077078</td>\n",
              "    </tr>\n",
              "    <tr>\n",
              "      <th>age</th>\n",
              "      <td>0.043193</td>\n",
              "      <td>-0.370110</td>\n",
              "      <td>-0.312569</td>\n",
              "      <td>-0.203935</td>\n",
              "      <td>0.091529</td>\n",
              "      <td>-0.077078</td>\n",
              "      <td>1.000000</td>\n",
              "    </tr>\n",
              "  </tbody>\n",
              "</table>\n",
              "</div>\n",
              "      <button class=\"colab-df-convert\" onclick=\"convertToInteractive('df-3c275c70-0398-4c9f-be6b-994080e87e7a')\"\n",
              "              title=\"Convert this dataframe to an interactive table.\"\n",
              "              style=\"display:none;\">\n",
              "        \n",
              "  <svg xmlns=\"http://www.w3.org/2000/svg\" height=\"24px\"viewBox=\"0 0 24 24\"\n",
              "       width=\"24px\">\n",
              "    <path d=\"M0 0h24v24H0V0z\" fill=\"none\"/>\n",
              "    <path d=\"M18.56 5.44l.94 2.06.94-2.06 2.06-.94-2.06-.94-.94-2.06-.94 2.06-2.06.94zm-11 1L8.5 8.5l.94-2.06 2.06-.94-2.06-.94L8.5 2.5l-.94 2.06-2.06.94zm10 10l.94 2.06.94-2.06 2.06-.94-2.06-.94-.94-2.06-.94 2.06-2.06.94z\"/><path d=\"M17.41 7.96l-1.37-1.37c-.4-.4-.92-.59-1.43-.59-.52 0-1.04.2-1.43.59L10.3 9.45l-7.72 7.72c-.78.78-.78 2.05 0 2.83L4 21.41c.39.39.9.59 1.41.59.51 0 1.02-.2 1.41-.59l7.78-7.78 2.81-2.81c.8-.78.8-2.07 0-2.86zM5.41 20L4 18.59l7.72-7.72 1.47 1.35L5.41 20z\"/>\n",
              "  </svg>\n",
              "      </button>\n",
              "      \n",
              "  <style>\n",
              "    .colab-df-container {\n",
              "      display:flex;\n",
              "      flex-wrap:wrap;\n",
              "      gap: 12px;\n",
              "    }\n",
              "\n",
              "    .colab-df-convert {\n",
              "      background-color: #E8F0FE;\n",
              "      border: none;\n",
              "      border-radius: 50%;\n",
              "      cursor: pointer;\n",
              "      display: none;\n",
              "      fill: #1967D2;\n",
              "      height: 32px;\n",
              "      padding: 0 0 0 0;\n",
              "      width: 32px;\n",
              "    }\n",
              "\n",
              "    .colab-df-convert:hover {\n",
              "      background-color: #E2EBFA;\n",
              "      box-shadow: 0px 1px 2px rgba(60, 64, 67, 0.3), 0px 1px 3px 1px rgba(60, 64, 67, 0.15);\n",
              "      fill: #174EA6;\n",
              "    }\n",
              "\n",
              "    [theme=dark] .colab-df-convert {\n",
              "      background-color: #3B4455;\n",
              "      fill: #D2E3FC;\n",
              "    }\n",
              "\n",
              "    [theme=dark] .colab-df-convert:hover {\n",
              "      background-color: #434B5C;\n",
              "      box-shadow: 0px 1px 3px 1px rgba(0, 0, 0, 0.15);\n",
              "      filter: drop-shadow(0px 1px 2px rgba(0, 0, 0, 0.3));\n",
              "      fill: #FFFFFF;\n",
              "    }\n",
              "  </style>\n",
              "\n",
              "      <script>\n",
              "        const buttonEl =\n",
              "          document.querySelector('#df-3c275c70-0398-4c9f-be6b-994080e87e7a button.colab-df-convert');\n",
              "        buttonEl.style.display =\n",
              "          google.colab.kernel.accessAllowed ? 'block' : 'none';\n",
              "\n",
              "        async function convertToInteractive(key) {\n",
              "          const element = document.querySelector('#df-3c275c70-0398-4c9f-be6b-994080e87e7a');\n",
              "          const dataTable =\n",
              "            await google.colab.kernel.invokeFunction('convertToInteractive',\n",
              "                                                     [key], {});\n",
              "          if (!dataTable) return;\n",
              "\n",
              "          const docLinkHtml = 'Like what you see? Visit the ' +\n",
              "            '<a target=\"_blank\" href=https://colab.research.google.com/notebooks/data_table.ipynb>data table notebook</a>'\n",
              "            + ' to learn more about interactive tables.';\n",
              "          element.innerHTML = '';\n",
              "          dataTable['output_type'] = 'display_data';\n",
              "          await google.colab.output.renderOutput(dataTable, element);\n",
              "          const docLink = document.createElement('div');\n",
              "          docLink.innerHTML = docLinkHtml;\n",
              "          element.appendChild(docLink);\n",
              "        }\n",
              "      </script>\n",
              "    </div>\n",
              "  </div>\n",
              "  "
            ]
          },
          "metadata": {},
          "execution_count": 8
        }
      ]
    },
    {
      "cell_type": "markdown",
      "source": [
        "**Age**\n",
        "\n",
        "We choose to fill the null values in this column with the median age of those belonging in the same class and of the same gender. We considered this as there is a non-neglible relation between age and the probability of emerging alive, and furthermore between age and class. We segregated further based on gender, as there appeared to be differences in the age group for different genders in different classes."
      ],
      "metadata": {
        "id": "EaY8td686ux1"
      }
    },
    {
      "cell_type": "code",
      "source": [
        "fig, (ax1,ax2) = plt.subplots(1,2,figsize=(20,4))\n",
        "\n",
        "a = pd.DataFrame(data.groupby(['class','gender'])['gender'].count())\n",
        "a.plot(kind = 'bar',ax = ax1, xlabel='Gender in each Class',ylabel = 'count', title='Count of Gender in Each Class')\n",
        "\n",
        "b = data.groupby(['class','gender'])['age'].mean()\n",
        "b.plot(kind = 'bar',ax = ax2, xlabel = 'Gender in each Class', ylabel = 'average age', title = 'Average Age of Gender in Each Class')\n"
      ],
      "metadata": {
        "colab": {
          "base_uri": "https://localhost:8080/",
          "height": 357
        },
        "id": "jsnEDWo8xRxY",
        "outputId": "11e960fc-b167-4a80-9b6d-f88a48f51742"
      },
      "execution_count": 9,
      "outputs": [
        {
          "output_type": "execute_result",
          "data": {
            "text/plain": [
              "<matplotlib.axes._subplots.AxesSubplot at 0x7fe8cf7894d0>"
            ]
          },
          "metadata": {},
          "execution_count": 9
        },
        {
          "output_type": "display_data",
          "data": {
            "text/plain": [
              "<Figure size 1440x288 with 2 Axes>"
            ],
            "image/png": "[encoded data removed]"
          },
          "metadata": {
            "needs_background": "light"
          }
        }
      ]
    },
    {
      "cell_type": "code",
      "source": [
        "data['age'] = data.groupby(['gender', 'class'])['age'].apply(lambda x: x.fillna(x.median()))\n",
        "data.isnull().sum()"
      ],
      "metadata": {
        "colab": {
          "base_uri": "https://localhost:8080/"
        },
        "id": "ewXAeBK7O5eR",
        "outputId": "afd5364e-da49-4e14-bfd4-d245ce4fcd10"
      },
      "execution_count": 10,
      "outputs": [
        {
          "output_type": "execute_result",
          "data": {
            "text/plain": [
              "Id                      0\n",
              "class                   0\n",
              "num_sibling/spouse      0\n",
              "num_parent/child        0\n",
              "ticket                  0\n",
              "price                   0\n",
              "Seat                  668\n",
              "departure_from          2\n",
              "gender                  0\n",
              "alive                   0\n",
              "age                     0\n",
              "dtype: int64"
            ]
          },
          "metadata": {},
          "execution_count": 10
        }
      ]
    },
    {
      "cell_type": "markdown",
      "source": [
        "**Departure From**\n",
        "\n",
        "In order to determine their departure location, the only useful feature seemed to be their unique ticket number, as different departure locations may have specific alphabets/numbers in their ticket. \n",
        "\n",
        "However, there was no clear relation found between the ticket number and location. \n",
        "\n",
        "Considering the very first letter of the ticket number, it was found that the value S was the modal value and hence we chose to fill null values with S."
      ],
      "metadata": {
        "id": "eSWo9PYb9MTl"
      }
    },
    {
      "cell_type": "code",
      "source": [
        "data[data['departure_from'].isnull()]"
      ],
      "metadata": {
        "colab": {
          "base_uri": "https://localhost:8080/",
          "height": 112
        },
        "id": "vXaQlOm_S1Gf",
        "outputId": "1cc96b5a-1570-4447-bc18-3b02260dea8d"
      },
      "execution_count": 11,
      "outputs": [
        {
          "output_type": "execute_result",
          "data": {
            "text/plain": [
              "      Id  class  num_sibling/spouse  num_parent/child      ticket  price Seat  \\\n",
              "61    62      1                   0                 0  Y7YW04RMB3   80.0  B28   \n",
              "829  830      1                   0                 0  Y7YW04RMB3   80.0  B28   \n",
              "\n",
              "    departure_from  gender  alive   age  \n",
              "61             NaN  female      1  38.0  \n",
              "829            NaN  female      1  62.0  "
            ],
            "text/html": [
              "\n",
              "  <div id=\"df-bda834f2-9bec-488a-a9df-bfece5b27abe\">\n",
              "    <div class=\"colab-df-container\">\n",
              "      <div>\n",
              "<style scoped>\n",
              "    .dataframe tbody tr th:only-of-type {\n",
              "        vertical-align: middle;\n",
              "    }\n",
              "\n",
              "    .dataframe tbody tr th {\n",
              "        vertical-align: top;\n",
              "    }\n",
              "\n",
              "    .dataframe thead th {\n",
              "        text-align: right;\n",
              "    }\n",
              "</style>\n",
              "<table border=\"1\" class=\"dataframe\">\n",
              "  <thead>\n",
              "    <tr style=\"text-align: right;\">\n",
              "      <th></th>\n",
              "      <th>Id</th>\n",
              "      <th>class</th>\n",
              "      <th>num_sibling/spouse</th>\n",
              "      <th>num_parent/child</th>\n",
              "      <th>ticket</th>\n",
              "      <th>price</th>\n",
              "      <th>Seat</th>\n",
              "      <th>departure_from</th>\n",
              "      <th>gender</th>\n",
              "      <th>alive</th>\n",
              "      <th>age</th>\n",
              "    </tr>\n",
              "  </thead>\n",
              "  <tbody>\n",
              "    <tr>\n",
              "      <th>61</th>\n",
              "      <td>62</td>\n",
              "      <td>1</td>\n",
              "      <td>0</td>\n",
              "      <td>0</td>\n",
              "      <td>Y7YW04RMB3</td>\n",
              "      <td>80.0</td>\n",
              "      <td>B28</td>\n",
              "      <td>NaN</td>\n",
              "      <td>female</td>\n",
              "      <td>1</td>\n",
              "      <td>38.0</td>\n",
              "    </tr>\n",
              "    <tr>\n",
              "      <th>829</th>\n",
              "      <td>830</td>\n",
              "      <td>1</td>\n",
              "      <td>0</td>\n",
              "      <td>0</td>\n",
              "      <td>Y7YW04RMB3</td>\n",
              "      <td>80.0</td>\n",
              "      <td>B28</td>\n",
              "      <td>NaN</td>\n",
              "      <td>female</td>\n",
              "      <td>1</td>\n",
              "      <td>62.0</td>\n",
              "    </tr>\n",
              "  </tbody>\n",
              "</table>\n",
              "</div>\n",
              "      <button class=\"colab-df-convert\" onclick=\"convertToInteractive('df-bda834f2-9bec-488a-a9df-bfece5b27abe')\"\n",
              "              title=\"Convert this dataframe to an interactive table.\"\n",
              "              style=\"display:none;\">\n",
              "        \n",
              "  <svg xmlns=\"http://www.w3.org/2000/svg\" height=\"24px\"viewBox=\"0 0 24 24\"\n",
              "       width=\"24px\">\n",
              "    <path d=\"M0 0h24v24H0V0z\" fill=\"none\"/>\n",
              "    <path d=\"M18.56 5.44l.94 2.06.94-2.06 2.06-.94-2.06-.94-.94-2.06-.94 2.06-2.06.94zm-11 1L8.5 8.5l.94-2.06 2.06-.94-2.06-.94L8.5 2.5l-.94 2.06-2.06.94zm10 10l.94 2.06.94-2.06 2.06-.94-2.06-.94-.94-2.06-.94 2.06-2.06.94z\"/><path d=\"M17.41 7.96l-1.37-1.37c-.4-.4-.92-.59-1.43-.59-.52 0-1.04.2-1.43.59L10.3 9.45l-7.72 7.72c-.78.78-.78 2.05 0 2.83L4 21.41c.39.39.9.59 1.41.59.51 0 1.02-.2 1.41-.59l7.78-7.78 2.81-2.81c.8-.78.8-2.07 0-2.86zM5.41 20L4 18.59l7.72-7.72 1.47 1.35L5.41 20z\"/>\n",
              "  </svg>\n",
              "      </button>\n",
              "      \n",
              "  <style>\n",
              "    .colab-df-container {\n",
              "      display:flex;\n",
              "      flex-wrap:wrap;\n",
              "      gap: 12px;\n",
              "    }\n",
              "\n",
              "    .colab-df-convert {\n",
              "      background-color: #E8F0FE;\n",
              "      border: none;\n",
              "      border-radius: 50%;\n",
              "      cursor: pointer;\n",
              "      display: none;\n",
              "      fill: #1967D2;\n",
              "      height: 32px;\n",
              "      padding: 0 0 0 0;\n",
              "      width: 32px;\n",
              "    }\n",
              "\n",
              "    .colab-df-convert:hover {\n",
              "      background-color: #E2EBFA;\n",
              "      box-shadow: 0px 1px 2px rgba(60, 64, 67, 0.3), 0px 1px 3px 1px rgba(60, 64, 67, 0.15);\n",
              "      fill: #174EA6;\n",
              "    }\n",
              "\n",
              "    [theme=dark] .colab-df-convert {\n",
              "      background-color: #3B4455;\n",
              "      fill: #D2E3FC;\n",
              "    }\n",
              "\n",
              "    [theme=dark] .colab-df-convert:hover {\n",
              "      background-color: #434B5C;\n",
              "      box-shadow: 0px 1px 3px 1px rgba(0, 0, 0, 0.15);\n",
              "      filter: drop-shadow(0px 1px 2px rgba(0, 0, 0, 0.3));\n",
              "      fill: #FFFFFF;\n",
              "    }\n",
              "  </style>\n",
              "\n",
              "      <script>\n",
              "        const buttonEl =\n",
              "          document.querySelector('#df-bda834f2-9bec-488a-a9df-bfece5b27abe button.colab-df-convert');\n",
              "        buttonEl.style.display =\n",
              "          google.colab.kernel.accessAllowed ? 'block' : 'none';\n",
              "\n",
              "        async function convertToInteractive(key) {\n",
              "          const element = document.querySelector('#df-bda834f2-9bec-488a-a9df-bfece5b27abe');\n",
              "          const dataTable =\n",
              "            await google.colab.kernel.invokeFunction('convertToInteractive',\n",
              "                                                     [key], {});\n",
              "          if (!dataTable) return;\n",
              "\n",
              "          const docLinkHtml = 'Like what you see? Visit the ' +\n",
              "            '<a target=\"_blank\" href=https://colab.research.google.com/notebooks/data_table.ipynb>data table notebook</a>'\n",
              "            + ' to learn more about interactive tables.';\n",
              "          element.innerHTML = '';\n",
              "          dataTable['output_type'] = 'display_data';\n",
              "          await google.colab.output.renderOutput(dataTable, element);\n",
              "          const docLink = document.createElement('div');\n",
              "          docLink.innerHTML = docLinkHtml;\n",
              "          element.appendChild(docLink);\n",
              "        }\n",
              "      </script>\n",
              "    </div>\n",
              "  </div>\n",
              "  "
            ]
          },
          "metadata": {},
          "execution_count": 11
        }
      ]
    },
    {
      "cell_type": "code",
      "source": [
        "Y_tickets = data['ticket'].str.contains('^Y+',regex = True)\n",
        "data[Y_tickets==True].groupby('departure_from')['departure_from'].count()\n",
        "data['departure_from'] = data['departure_from'].fillna('S')"
      ],
      "metadata": {
        "id": "eCZfgt_IVo2Q"
      },
      "execution_count": 12,
      "outputs": []
    },
    {
      "cell_type": "markdown",
      "source": [
        "**Seat**\n",
        "\n",
        "We chose to drop the seat feature as there were too many missing values to approximate. It did not make sense to approximate as well, because each seat is meant to be uniquely tied to their ticket number. "
      ],
      "metadata": {
        "id": "p41AzWTf-75d"
      }
    },
    {
      "cell_type": "code",
      "source": [
        "data.drop('Seat',axis=1,inplace=True)"
      ],
      "metadata": {
        "id": "u9eK0eiOUePa"
      },
      "execution_count": 13,
      "outputs": []
    },
    {
      "cell_type": "markdown",
      "source": [
        "# Data Transformation"
      ],
      "metadata": {
        "id": "90lwNyxdA5dV"
      }
    },
    {
      "cell_type": "markdown",
      "source": [
        "We start off by encoding the gender variable to convert it into a numeric value for use in our models later."
      ],
      "metadata": {
        "id": "7t1mhmaoA--x"
      }
    },
    {
      "cell_type": "code",
      "source": [
        "data['gender'] = data['gender'].map({'male':1,'female':0})"
      ],
      "metadata": {
        "id": "f5B7pLDQZqZR"
      },
      "execution_count": 14,
      "outputs": []
    },
    {
      "cell_type": "markdown",
      "source": [
        "Subsequently, we created a new variable, 'family_size' by merging the correlated columns, as shown below."
      ],
      "metadata": {
        "id": "XHqXIJcjE5vi"
      }
    },
    {
      "cell_type": "code",
      "source": [
        "data['family_size'] = data['num_sibling/spouse'] + data['num_parent/child'] + 1"
      ],
      "metadata": {
        "id": "5kmqA2rkXNSx"
      },
      "execution_count": 15,
      "outputs": []
    },
    {
      "cell_type": "markdown",
      "source": [
        "We sieve out the numeric columns and obtain 2 new dataframes:\n",
        "\n",
        "X consisting of our numeric dependent variables \n",
        "\n",
        "Y consisting of our target variable"
      ],
      "metadata": {
        "id": "X_l46ZxbFd02"
      }
    },
    {
      "cell_type": "code",
      "source": [
        "data_numeric = data.select_dtypes(include = np.number)\n",
        "data_numeric"
      ],
      "metadata": {
        "colab": {
          "base_uri": "https://localhost:8080/",
          "height": 424
        },
        "id": "g1YyqdilWjOz",
        "outputId": "18769ff6-e255-4803-e3de-78e5866a1571"
      },
      "execution_count": 16,
      "outputs": [
        {
          "output_type": "execute_result",
          "data": {
            "text/plain": [
              "      Id  class  num_sibling/spouse  num_parent/child    price  gender  alive  \\\n",
              "0      1      3                   1                 0   7.2500       1      0   \n",
              "1      2      1                   1                 0  71.2833       0      1   \n",
              "2      3      3                   0                 0   7.9250       0      1   \n",
              "3      4      1                   1                 0  53.1000       0      1   \n",
              "4      5      3                   0                 0   8.0500       1      0   \n",
              "..   ...    ...                 ...               ...      ...     ...    ...   \n",
              "861  862      2                   1                 0  11.5000       1      0   \n",
              "862  863      1                   0                 0  25.9292       0      1   \n",
              "863  864      3                   8                 2  69.5500       0      0   \n",
              "864  865      2                   0                 0  13.0000       1      0   \n",
              "865  866      2                   0                 0  13.0000       0      1   \n",
              "\n",
              "      age  family_size  \n",
              "0    22.0            2  \n",
              "1    38.0            2  \n",
              "2    26.0            1  \n",
              "3    35.0            2  \n",
              "4    35.0            1  \n",
              "..    ...          ...  \n",
              "861  21.0            2  \n",
              "862  48.0            1  \n",
              "863  21.0           11  \n",
              "864  24.0            1  \n",
              "865  42.0            1  \n",
              "\n",
              "[866 rows x 9 columns]"
            ],
            "text/html": [
              "\n",
              "  <div id=\"df-99a4a3da-b098-43da-984d-4c9390763cd9\">\n",
              "    <div class=\"colab-df-container\">\n",
              "      <div>\n",
              "<style scoped>\n",
              "    .dataframe tbody tr th:only-of-type {\n",
              "        vertical-align: middle;\n",
              "    }\n",
              "\n",
              "    .dataframe tbody tr th {\n",
              "        vertical-align: top;\n",
              "    }\n",
              "\n",
              "    .dataframe thead th {\n",
              "        text-align: right;\n",
              "    }\n",
              "</style>\n",
              "<table border=\"1\" class=\"dataframe\">\n",
              "  <thead>\n",
              "    <tr style=\"text-align: right;\">\n",
              "      <th></th>\n",
              "      <th>Id</th>\n",
              "      <th>class</th>\n",
              "      <th>num_sibling/spouse</th>\n",
              "      <th>num_parent/child</th>\n",
              "      <th>price</th>\n",
              "      <th>gender</th>\n",
              "      <th>alive</th>\n",
              "      <th>age</th>\n",
              "      <th>family_size</th>\n",
              "    </tr>\n",
              "  </thead>\n",
              "  <tbody>\n",
              "    <tr>\n",
              "      <th>0</th>\n",
              "      <td>1</td>\n",
              "      <td>3</td>\n",
              "      <td>1</td>\n",
              "      <td>0</td>\n",
              "      <td>7.2500</td>\n",
              "      <td>1</td>\n",
              "      <td>0</td>\n",
              "      <td>22.0</td>\n",
              "      <td>2</td>\n",
              "    </tr>\n",
              "    <tr>\n",
              "      <th>1</th>\n",
              "      <td>2</td>\n",
              "      <td>1</td>\n",
              "      <td>1</td>\n",
              "      <td>0</td>\n",
              "      <td>71.2833</td>\n",
              "      <td>0</td>\n",
              "      <td>1</td>\n",
              "      <td>38.0</td>\n",
              "      <td>2</td>\n",
              "    </tr>\n",
              "    <tr>\n",
              "      <th>2</th>\n",
              "      <td>3</td>\n",
              "      <td>3</td>\n",
              "      <td>0</td>\n",
              "      <td>0</td>\n",
              "      <td>7.9250</td>\n",
              "      <td>0</td>\n",
              "      <td>1</td>\n",
              "      <td>26.0</td>\n",
              "      <td>1</td>\n",
              "    </tr>\n",
              "    <tr>\n",
              "      <th>3</th>\n",
              "      <td>4</td>\n",
              "      <td>1</td>\n",
              "      <td>1</td>\n",
              "      <td>0</td>\n",
              "      <td>53.1000</td>\n",
              "      <td>0</td>\n",
              "      <td>1</td>\n",
              "      <td>35.0</td>\n",
              "      <td>2</td>\n",
              "    </tr>\n",
              "    <tr>\n",
              "      <th>4</th>\n",
              "      <td>5</td>\n",
              "      <td>3</td>\n",
              "      <td>0</td>\n",
              "      <td>0</td>\n",
              "      <td>8.0500</td>\n",
              "      <td>1</td>\n",
              "      <td>0</td>\n",
              "      <td>35.0</td>\n",
              "      <td>1</td>\n",
              "    </tr>\n",
              "    <tr>\n",
              "      <th>...</th>\n",
              "      <td>...</td>\n",
              "      <td>...</td>\n",
              "      <td>...</td>\n",
              "      <td>...</td>\n",
              "      <td>...</td>\n",
              "      <td>...</td>\n",
              "      <td>...</td>\n",
              "      <td>...</td>\n",
              "      <td>...</td>\n",
              "    </tr>\n",
              "    <tr>\n",
              "      <th>861</th>\n",
              "      <td>862</td>\n",
              "      <td>2</td>\n",
              "      <td>1</td>\n",
              "      <td>0</td>\n",
              "      <td>11.5000</td>\n",
              "      <td>1</td>\n",
              "      <td>0</td>\n",
              "      <td>21.0</td>\n",
              "      <td>2</td>\n",
              "    </tr>\n",
              "    <tr>\n",
              "      <th>862</th>\n",
              "      <td>863</td>\n",
              "      <td>1</td>\n",
              "      <td>0</td>\n",
              "      <td>0</td>\n",
              "      <td>25.9292</td>\n",
              "      <td>0</td>\n",
              "      <td>1</td>\n",
              "      <td>48.0</td>\n",
              "      <td>1</td>\n",
              "    </tr>\n",
              "    <tr>\n",
              "      <th>863</th>\n",
              "      <td>864</td>\n",
              "      <td>3</td>\n",
              "      <td>8</td>\n",
              "      <td>2</td>\n",
              "      <td>69.5500</td>\n",
              "      <td>0</td>\n",
              "      <td>0</td>\n",
              "      <td>21.0</td>\n",
              "      <td>11</td>\n",
              "    </tr>\n",
              "    <tr>\n",
              "      <th>864</th>\n",
              "      <td>865</td>\n",
              "      <td>2</td>\n",
              "      <td>0</td>\n",
              "      <td>0</td>\n",
              "      <td>13.0000</td>\n",
              "      <td>1</td>\n",
              "      <td>0</td>\n",
              "      <td>24.0</td>\n",
              "      <td>1</td>\n",
              "    </tr>\n",
              "    <tr>\n",
              "      <th>865</th>\n",
              "      <td>866</td>\n",
              "      <td>2</td>\n",
              "      <td>0</td>\n",
              "      <td>0</td>\n",
              "      <td>13.0000</td>\n",
              "      <td>0</td>\n",
              "      <td>1</td>\n",
              "      <td>42.0</td>\n",
              "      <td>1</td>\n",
              "    </tr>\n",
              "  </tbody>\n",
              "</table>\n",
              "<p>866 rows × 9 columns</p>\n",
              "</div>\n",
              "      <button class=\"colab-df-convert\" onclick=\"convertToInteractive('df-99a4a3da-b098-43da-984d-4c9390763cd9')\"\n",
              "              title=\"Convert this dataframe to an interactive table.\"\n",
              "              style=\"display:none;\">\n",
              "        \n",
              "  <svg xmlns=\"http://www.w3.org/2000/svg\" height=\"24px\"viewBox=\"0 0 24 24\"\n",
              "       width=\"24px\">\n",
              "    <path d=\"M0 0h24v24H0V0z\" fill=\"none\"/>\n",
              "    <path d=\"M18.56 5.44l.94 2.06.94-2.06 2.06-.94-2.06-.94-.94-2.06-.94 2.06-2.06.94zm-11 1L8.5 8.5l.94-2.06 2.06-.94-2.06-.94L8.5 2.5l-.94 2.06-2.06.94zm10 10l.94 2.06.94-2.06 2.06-.94-2.06-.94-.94-2.06-.94 2.06-2.06.94z\"/><path d=\"M17.41 7.96l-1.37-1.37c-.4-.4-.92-.59-1.43-.59-.52 0-1.04.2-1.43.59L10.3 9.45l-7.72 7.72c-.78.78-.78 2.05 0 2.83L4 21.41c.39.39.9.59 1.41.59.51 0 1.02-.2 1.41-.59l7.78-7.78 2.81-2.81c.8-.78.8-2.07 0-2.86zM5.41 20L4 18.59l7.72-7.72 1.47 1.35L5.41 20z\"/>\n",
              "  </svg>\n",
              "      </button>\n",
              "      \n",
              "  <style>\n",
              "    .colab-df-container {\n",
              "      display:flex;\n",
              "      flex-wrap:wrap;\n",
              "      gap: 12px;\n",
              "    }\n",
              "\n",
              "    .colab-df-convert {\n",
              "      background-color: #E8F0FE;\n",
              "      border: none;\n",
              "      border-radius: 50%;\n",
              "      cursor: pointer;\n",
              "      display: none;\n",
              "      fill: #1967D2;\n",
              "      height: 32px;\n",
              "      padding: 0 0 0 0;\n",
              "      width: 32px;\n",
              "    }\n",
              "\n",
              "    .colab-df-convert:hover {\n",
              "      background-color: #E2EBFA;\n",
              "      box-shadow: 0px 1px 2px rgba(60, 64, 67, 0.3), 0px 1px 3px 1px rgba(60, 64, 67, 0.15);\n",
              "      fill: #174EA6;\n",
              "    }\n",
              "\n",
              "    [theme=dark] .colab-df-convert {\n",
              "      background-color: #3B4455;\n",
              "      fill: #D2E3FC;\n",
              "    }\n",
              "\n",
              "    [theme=dark] .colab-df-convert:hover {\n",
              "      background-color: #434B5C;\n",
              "      box-shadow: 0px 1px 3px 1px rgba(0, 0, 0, 0.15);\n",
              "      filter: drop-shadow(0px 1px 2px rgba(0, 0, 0, 0.3));\n",
              "      fill: #FFFFFF;\n",
              "    }\n",
              "  </style>\n",
              "\n",
              "      <script>\n",
              "        const buttonEl =\n",
              "          document.querySelector('#df-99a4a3da-b098-43da-984d-4c9390763cd9 button.colab-df-convert');\n",
              "        buttonEl.style.display =\n",
              "          google.colab.kernel.accessAllowed ? 'block' : 'none';\n",
              "\n",
              "        async function convertToInteractive(key) {\n",
              "          const element = document.querySelector('#df-99a4a3da-b098-43da-984d-4c9390763cd9');\n",
              "          const dataTable =\n",
              "            await google.colab.kernel.invokeFunction('convertToInteractive',\n",
              "                                                     [key], {});\n",
              "          if (!dataTable) return;\n",
              "\n",
              "          const docLinkHtml = 'Like what you see? Visit the ' +\n",
              "            '<a target=\"_blank\" href=https://colab.research.google.com/notebooks/data_table.ipynb>data table notebook</a>'\n",
              "            + ' to learn more about interactive tables.';\n",
              "          element.innerHTML = '';\n",
              "          dataTable['output_type'] = 'display_data';\n",
              "          await google.colab.output.renderOutput(dataTable, element);\n",
              "          const docLink = document.createElement('div');\n",
              "          docLink.innerHTML = docLinkHtml;\n",
              "          element.appendChild(docLink);\n",
              "        }\n",
              "      </script>\n",
              "    </div>\n",
              "  </div>\n",
              "  "
            ]
          },
          "metadata": {},
          "execution_count": 16
        }
      ]
    },
    {
      "cell_type": "code",
      "source": [
        "x=data_numeric.drop([\"alive\",'Id','num_sibling/spouse','num_parent/child'],axis=1)\n",
        "y=data_numeric[\"alive\"]"
      ],
      "metadata": {
        "id": "_1ZUK1tnWrxZ"
      },
      "execution_count": 17,
      "outputs": []
    },
    {
      "cell_type": "markdown",
      "source": [
        "We perform feature scaling on price, age and family_size as their units of measurements are different. \n",
        "\n",
        "Because machine learning algorithms take just the magnitude of features neglecting the units, higher weightage may be given to features with higher magnitude, like price, if features are left unscaled. Without scaling, family_size (with its smaller values) would likely end up with a lower weight than it is meant to. "
      ],
      "metadata": {
        "id": "mvjTo6ZvGXo2"
      }
    },
    {
      "cell_type": "code",
      "source": [
        "fig, (ax1,ax2,ax3) = plt.subplots(3,1,figsize=(20,4))\n",
        "sns.kdeplot(data['age'],ax = ax1)\n",
        "sns.kdeplot(data['price'],ax = ax2)\n",
        "sns.kdeplot(data['family_size'],ax = ax3)"
      ],
      "metadata": {
        "colab": {
          "base_uri": "https://localhost:8080/",
          "height": 298
        },
        "id": "NRCQAFcs8bQd",
        "outputId": "3e01e7e7-6548-4a5b-aadd-cc188ae618d3"
      },
      "execution_count": 18,
      "outputs": [
        {
          "output_type": "execute_result",
          "data": {
            "text/plain": [
              "<matplotlib.axes._subplots.AxesSubplot at 0x7fe8cf607f10>"
            ]
          },
          "metadata": {},
          "execution_count": 18
        },
        {
          "output_type": "display_data",
          "data": {
            "text/plain": [
              "<Figure size 1440x288 with 3 Axes>"
            ],
            "image/png": "[encoded data removed]"
          },
          "metadata": {
            "needs_background": "light"
          }
        }
      ]
    },
    {
      "cell_type": "markdown",
      "source": [
        "The numeric age, price and family size columns have a skewed normal distribution. We understand that this may potentially affect the classification algorithms especially logistic regression, which naturally assumes a normal distribution."
      ],
      "metadata": {
        "id": "5_HP6acx-PVZ"
      }
    },
    {
      "cell_type": "code",
      "source": [
        "col_names = ['price', 'age','family_size']\n",
        "features = data_numeric[col_names]\n",
        "scaled_features = StandardScaler().fit_transform(features.values)\n",
        "x[col_names] = scaled_features\n"
      ],
      "metadata": {
        "id": "kh7wGfJ7X6A4"
      },
      "execution_count": 19,
      "outputs": []
    },
    {
      "cell_type": "markdown",
      "source": [
        "# Data Modelling"
      ],
      "metadata": {
        "id": "-_U6eZS6HeWv"
      }
    },
    {
      "cell_type": "markdown",
      "source": [
        "# Train-test Split\n",
        "We perform a train-test split in order to obtain a set of training data and a set of test data, which we then feed into the various machine learning algorithms to test their predictive performance. "
      ],
      "metadata": {
        "id": "--IKrcVQHZ1m"
      }
    },
    {
      "cell_type": "code",
      "source": [
        "x_train,x_val,y_train,y_val=train_test_split(x,y,test_size=0.25,random_state=1)"
      ],
      "metadata": {
        "id": "wMVuLZlkGWgY"
      },
      "execution_count": 20,
      "outputs": []
    },
    {
      "cell_type": "code",
      "source": [
        "x.shape"
      ],
      "metadata": {
        "colab": {
          "base_uri": "https://localhost:8080/"
        },
        "id": "J5Zh3CWhqIkF",
        "outputId": "b03a8496-ef94-4740-c773-36459027811a"
      },
      "execution_count": 21,
      "outputs": [
        {
          "output_type": "execute_result",
          "data": {
            "text/plain": [
              "(866, 5)"
            ]
          },
          "metadata": {},
          "execution_count": 21
        }
      ]
    },
    {
      "cell_type": "markdown",
      "source": [
        "# Model 1: Logistic Regression\n",
        "\n",
        "We start off with Logistic Regression, the classification algorithm most appropriate for binary classification problems, like the Titanic dataset.  \n",
        "\n",
        "Logistic regression is a supervised classification algorithm that assigns data to a discrete set of classes. It is used to estimate the probability of the occurrence of an event, in our case, on whether a person survives a disaster.\n",
        "The values are bounded between 0 and 1, while the output is either 0 or 1.\n",
        "\n",
        "𝑦=𝑔(𝐖.𝐱𝑇)"
      ],
      "metadata": {
        "id": "LH2WjqtMH7Bq"
      }
    },
    {
      "cell_type": "code",
      "source": [
        "lm= LogisticRegression()\n",
        "lm.fit(x_train,y_train)\n",
        "pred = lm.predict(x_val)"
      ],
      "metadata": {
        "id": "3FMzXkHgYbTS"
      },
      "execution_count": 22,
      "outputs": []
    },
    {
      "cell_type": "code",
      "source": [
        "print(classification_report(y_val,pred))\n",
        "cm = metrics.confusion_matrix(y_val, pred)\n",
        "print(cm)"
      ],
      "metadata": {
        "colab": {
          "base_uri": "https://localhost:8080/"
        },
        "id": "476pUjf4YjvJ",
        "outputId": "35665c76-ceb4-4996-eda8-78d76f5bb0d6"
      },
      "execution_count": 23,
      "outputs": [
        {
          "output_type": "stream",
          "name": "stdout",
          "text": [
            "              precision    recall  f1-score   support\n",
            "\n",
            "           0       0.80      0.89      0.84       133\n",
            "           1       0.78      0.64      0.71        84\n",
            "\n",
            "    accuracy                           0.79       217\n",
            "   macro avg       0.79      0.77      0.77       217\n",
            "weighted avg       0.79      0.79      0.79       217\n",
            "\n",
            "[[118  15]\n",
            " [ 30  54]]\n"
          ]
        }
      ]
    },
    {
      "cell_type": "markdown",
      "source": [
        "A simple logistic Regression on all variables gives us a good baseline score of\n",
        "\n",
        "Precision - 0.80\n",
        "\n",
        "Recall - 0.89\n",
        "\n",
        "F1-score - 0.84\n",
        "\n",
        "Accuracy - 0.79\n",
        "\n",
        "\n",
        "Given the slight uneven distribution of classes in the dataset, and the different cost of a false positive or false negative:\n",
        "\n",
        "\n",
        "*   Having a high precision -> low false positive rate: Priortizing this metric ensures we don't waste resources finding people who are likely dead already \n",
        "*   Having high recall -> low false negative rate: Priortizing this metric ensures we don't give up the rescue effort before everyone is saved\n",
        "\n",
        "\n",
        "We will utilize the F1-score which is the weighted average of Precision and Recall, which takes both false positives and false negatives into account."
      ],
      "metadata": {
        "id": "-ct2mnpVNONq"
      }
    },
    {
      "cell_type": "code",
      "source": [
        "fpr, tpr, _ = metrics.roc_curve(y_val, pred) \n",
        "auc = metrics.roc_auc_score(y_val, pred)\n",
        "\n",
        "plt.plot(fpr,tpr,label=\"AUC=\"+str(auc)) \n",
        "plt.ylabel('True Positive Rate') \n",
        "plt.xlabel('False Positive Rate') \n",
        "plt.legend(loc=4)\n",
        "plt.show()"
      ],
      "metadata": {
        "id": "OanQqqe9SF0P",
        "colab": {
          "base_uri": "https://localhost:8080/",
          "height": 279
        },
        "outputId": "6205f3b2-f740-43ed-fd0a-d2db782bd2e8"
      },
      "execution_count": 24,
      "outputs": [
        {
          "output_type": "display_data",
          "data": {
            "text/plain": [
              "<Figure size 432x288 with 1 Axes>"
            ],
            "image/png": "[encoded data removed]"
          },
          "metadata": {
            "needs_background": "light"
          }
        }
      ]
    },
    {
      "cell_type": "markdown",
      "source": [
        "A ROC curve along with AUC value were plotted and calculated respectively. A high AUC of 0.79 indicates that the model predicts accurately."
      ],
      "metadata": {
        "id": "oipi3XI-1iQl"
      }
    },
    {
      "cell_type": "markdown",
      "source": [
        "# Model 2: Random Forest\n",
        "\n",
        "Random forest is a model made up of multiple decision trees. The algorithm uses both the bagging method and feature randomness to ensure a low correlation between the decision trees."
      ],
      "metadata": {
        "id": "N8_LIXSpS1Kx"
      }
    },
    {
      "cell_type": "code",
      "source": [
        "rf = RandomForestClassifier(n_estimators = 1000, random_state = 1)\n",
        "rf.fit(x_train, y_train)\n",
        "pred2 = rf.predict(x_val)\n",
        "\n",
        "print(classification_report(y_val,pred2))\n",
        "cm = metrics.confusion_matrix(y_val, pred2)\n",
        "print(cm)"
      ],
      "metadata": {
        "colab": {
          "base_uri": "https://localhost:8080/"
        },
        "id": "TyRMGfIxZ_j8",
        "outputId": "e38ea388-3c40-4abe-ecc4-f5ea1f95099d"
      },
      "execution_count": 25,
      "outputs": [
        {
          "output_type": "stream",
          "name": "stdout",
          "text": [
            "              precision    recall  f1-score   support\n",
            "\n",
            "           0       0.80      0.90      0.85       133\n",
            "           1       0.81      0.64      0.72        84\n",
            "\n",
            "    accuracy                           0.80       217\n",
            "   macro avg       0.80      0.77      0.78       217\n",
            "weighted avg       0.80      0.80      0.80       217\n",
            "\n",
            "[[120  13]\n",
            " [ 30  54]]\n"
          ]
        }
      ]
    },
    {
      "cell_type": "markdown",
      "source": [
        "An untuned Random Forest performs marginally better than our initial logistic regression model, with a F1-score of 0.85. \n",
        "\n"
      ],
      "metadata": {
        "id": "a6UUo00cS8Oh"
      }
    },
    {
      "cell_type": "markdown",
      "source": [
        "# Model 3: Hyperparameter Tuned Random Forest\n",
        "\n",
        "We tune the hyperparameters of the random forest in order to obtain the best set that optimizes output and minimizes loss."
      ],
      "metadata": {
        "id": "XjFJVKkeU7cp"
      }
    },
    {
      "cell_type": "code",
      "source": [
        "n_estimators = [int(x) for x in np.linspace(start = 200, stop = 2000, num = 10)]\n",
        "# Number of features to consider at every split\n",
        "max_features = ['auto', 'sqrt']\n",
        "# Maximum number of levels in tree\n",
        "max_depth = [int(x) for x in np.linspace(10, 110, num = 11)]\n",
        "max_depth.append(None)\n",
        "# Minimum number of samples required to split a node\n",
        "min_samples_split = [2, 5, 10]\n",
        "# Minimum number of samples required at each leaf node\n",
        "min_samples_leaf = [1, 2, 4]\n",
        "# Method of selecting samples for training each tree\n",
        "bootstrap = [True, False]\n",
        "# Create the random grid\n",
        "random_grid = {'n_estimators': n_estimators,\n",
        "               'max_features': max_features,\n",
        "               'max_depth': max_depth,\n",
        "               'min_samples_split': min_samples_split,\n",
        "               'min_samples_leaf': min_samples_leaf,\n",
        "               'bootstrap': bootstrap}"
      ],
      "metadata": {
        "id": "aOTUQLiGenWm"
      },
      "execution_count": 26,
      "outputs": []
    },
    {
      "cell_type": "code",
      "source": [
        "rf_tuned = RandomForestClassifier()\n",
        "\n",
        "rf_random = RandomizedSearchCV(estimator = rf_tuned, param_distributions = random_grid, n_iter = 100, cv = 3, verbose=2, random_state=1, n_jobs = -1)\n",
        "\n",
        "rf_random.fit(x_train, y_train)"
      ],
      "metadata": {
        "colab": {
          "base_uri": "https://localhost:8080/"
        },
        "id": "FteWEUYcemgh",
        "outputId": "fd805c23-bfe2-4745-8311-b8d4c2b842b9"
      },
      "execution_count": 27,
      "outputs": [
        {
          "output_type": "stream",
          "name": "stdout",
          "text": [
            "Fitting 3 folds for each of 100 candidates, totalling 300 fits\n"
          ]
        },
        {
          "output_type": "execute_result",
          "data": {
            "text/plain": [
              "RandomizedSearchCV(cv=3, estimator=RandomForestClassifier(), n_iter=100,\n",
              "                   n_jobs=-1,\n",
              "                   param_distributions={'bootstrap': [True, False],\n",
              "                                        'max_depth': [10, 20, 30, 40, 50, 60,\n",
              "                                                      70, 80, 90, 100, 110,\n",
              "                                                      None],\n",
              "                                        'max_features': ['auto', 'sqrt'],\n",
              "                                        'min_samples_leaf': [1, 2, 4],\n",
              "                                        'min_samples_split': [2, 5, 10],\n",
              "                                        'n_estimators': [200, 400, 600, 800,\n",
              "                                                         1000, 1200, 1400, 1600,\n",
              "                                                         1800, 2000]},\n",
              "                   random_state=1, verbose=2)"
            ]
          },
          "metadata": {},
          "execution_count": 27
        }
      ]
    },
    {
      "cell_type": "code",
      "source": [
        "rf_random.best_params_"
      ],
      "metadata": {
        "id": "UG0gAmk3ihoo",
        "colab": {
          "base_uri": "https://localhost:8080/"
        },
        "outputId": "ee98b48a-48ae-461f-fc17-7d20b1c3f5e4"
      },
      "execution_count": 28,
      "outputs": [
        {
          "output_type": "execute_result",
          "data": {
            "text/plain": [
              "{'n_estimators': 1800,\n",
              " 'min_samples_split': 5,\n",
              " 'min_samples_leaf': 2,\n",
              " 'max_features': 'sqrt',\n",
              " 'max_depth': 80,\n",
              " 'bootstrap': True}"
            ]
          },
          "metadata": {},
          "execution_count": 28
        }
      ]
    },
    {
      "cell_type": "code",
      "source": [
        "param_grid = {\n",
        "    'bootstrap': [True],\n",
        "    'max_depth': [80, 90, 100, 110],\n",
        "    'max_features': [2, 3],\n",
        "    'min_samples_leaf': [3, 4, 5],\n",
        "    'min_samples_split': [8, 10, 12],\n",
        "    'n_estimators': [100, 200, 300, 1000]\n",
        "}\n",
        "\n",
        "rf_tuned2 = RandomForestClassifier()\n",
        "\n",
        "grid_search = GridSearchCV(estimator = rf_tuned2, param_grid = param_grid, cv = 3, n_jobs = -1, verbose = 2)\n",
        "grid_search.fit(x_train, y_train)"
      ],
      "metadata": {
        "id": "0CVVqRzSiiIC",
        "colab": {
          "base_uri": "https://localhost:8080/"
        },
        "outputId": "d24a0556-dbf9-49c1-cd72-2934577cf3ab"
      },
      "execution_count": 29,
      "outputs": [
        {
          "output_type": "stream",
          "name": "stdout",
          "text": [
            "Fitting 3 folds for each of 288 candidates, totalling 864 fits\n"
          ]
        },
        {
          "output_type": "execute_result",
          "data": {
            "text/plain": [
              "GridSearchCV(cv=3, estimator=RandomForestClassifier(), n_jobs=-1,\n",
              "             param_grid={'bootstrap': [True], 'max_depth': [80, 90, 100, 110],\n",
              "                         'max_features': [2, 3], 'min_samples_leaf': [3, 4, 5],\n",
              "                         'min_samples_split': [8, 10, 12],\n",
              "                         'n_estimators': [100, 200, 300, 1000]},\n",
              "             verbose=2)"
            ]
          },
          "metadata": {},
          "execution_count": 29
        }
      ]
    },
    {
      "cell_type": "code",
      "source": [
        "pred3 = grid_search.predict(x_val)\n",
        "\n",
        "print(classification_report(y_val,pred3))\n",
        "cm = metrics.confusion_matrix(y_val, pred3)\n",
        "print(cm)"
      ],
      "metadata": {
        "id": "bO7EkY6IjKbQ",
        "colab": {
          "base_uri": "https://localhost:8080/"
        },
        "outputId": "d97e6835-753e-4bdb-b5c4-9aec339d9d60"
      },
      "execution_count": 30,
      "outputs": [
        {
          "output_type": "stream",
          "name": "stdout",
          "text": [
            "              precision    recall  f1-score   support\n",
            "\n",
            "           0       0.79      0.90      0.85       133\n",
            "           1       0.80      0.63      0.71        84\n",
            "\n",
            "    accuracy                           0.80       217\n",
            "   macro avg       0.80      0.77      0.78       217\n",
            "weighted avg       0.80      0.80      0.79       217\n",
            "\n",
            "[[120  13]\n",
            " [ 31  53]]\n"
          ]
        }
      ]
    },
    {
      "cell_type": "markdown",
      "source": [
        "Our hyperparameter-tuned random forest did not produce significantly better results than the untuned random forest with a F1-score of 0.85. However, there was a trade-off between precision and recall."
      ],
      "metadata": {
        "id": "q6JArFuvGXeW"
      }
    },
    {
      "cell_type": "markdown",
      "source": [
        "# Model 4: Extreme Gradient Boosting (XGBoost)\n",
        "\n",
        "Extreme Gradient Boosting is an efficient implementation of a class of ensemble machine learning algorithms, which is referred to as boosting. The loss gradient is minimized as the model is fit, utilzing the gradient descent algorithm."
      ],
      "metadata": {
        "id": "FraWvgTeVQzs"
      }
    },
    {
      "cell_type": "code",
      "source": [
        "xgb = xgboost.XGBClassifier()"
      ],
      "metadata": {
        "id": "IWUk92WMmZeJ"
      },
      "execution_count": 31,
      "outputs": []
    },
    {
      "cell_type": "code",
      "source": [
        "params = {\n",
        " \"learning_rate\" : [0.05,0.10,0.15,0.20,0.25,0.30],\n",
        " \"max_depth\" : [ 3, 4, 5, 6, 8, 10, 12, 15],\n",
        " \"min_child_weight\" : [ 1, 3, 5, 7 ],\n",
        " \"gamma\": [ 0.0, 0.1, 0.2 , 0.3, 0.4 ],\n",
        " \"colsample_bytree\" : [ 0.3, 0.4, 0.5 , 0.7 ]\n",
        "}"
      ],
      "metadata": {
        "id": "XGnuOnvBlgN9"
      },
      "execution_count": 32,
      "outputs": []
    },
    {
      "cell_type": "code",
      "source": [
        "xgb_random=RandomizedSearchCV(xgb,param_distributions=params,n_iter=5,scoring='roc_auc',n_jobs=-1,cv=5,verbose=3)"
      ],
      "metadata": {
        "id": "VK_iT_Lxl3QJ"
      },
      "execution_count": 33,
      "outputs": []
    },
    {
      "cell_type": "code",
      "source": [
        "xgb_random.fit(x_train,y_train)"
      ],
      "metadata": {
        "id": "GHTM6lrpl4uZ",
        "colab": {
          "base_uri": "https://localhost:8080/"
        },
        "outputId": "ca5c4f0d-4162-48bf-f852-54a9a17ae953"
      },
      "execution_count": 34,
      "outputs": [
        {
          "output_type": "stream",
          "name": "stdout",
          "text": [
            "Fitting 5 folds for each of 5 candidates, totalling 25 fits\n"
          ]
        },
        {
          "output_type": "execute_result",
          "data": {
            "text/plain": [
              "RandomizedSearchCV(cv=5, estimator=XGBClassifier(), n_iter=5, n_jobs=-1,\n",
              "                   param_distributions={'colsample_bytree': [0.3, 0.4, 0.5,\n",
              "                                                             0.7],\n",
              "                                        'gamma': [0.0, 0.1, 0.2, 0.3, 0.4],\n",
              "                                        'learning_rate': [0.05, 0.1, 0.15, 0.2,\n",
              "                                                          0.25, 0.3],\n",
              "                                        'max_depth': [3, 4, 5, 6, 8, 10, 12,\n",
              "                                                      15],\n",
              "                                        'min_child_weight': [1, 3, 5, 7]},\n",
              "                   scoring='roc_auc', verbose=3)"
            ]
          },
          "metadata": {},
          "execution_count": 34
        }
      ]
    },
    {
      "cell_type": "code",
      "source": [
        "xgb_random.best_params_"
      ],
      "metadata": {
        "id": "P5YMQ10yl7Du",
        "colab": {
          "base_uri": "https://localhost:8080/"
        },
        "outputId": "b4b0f8b6-bc42-47a0-b4bf-93293b6aa0b2"
      },
      "execution_count": 35,
      "outputs": [
        {
          "output_type": "execute_result",
          "data": {
            "text/plain": [
              "{'min_child_weight': 1,\n",
              " 'max_depth': 3,\n",
              " 'learning_rate': 0.25,\n",
              " 'gamma': 0.4,\n",
              " 'colsample_bytree': 0.7}"
            ]
          },
          "metadata": {},
          "execution_count": 35
        }
      ]
    },
    {
      "cell_type": "code",
      "source": [
        "xgb_tuned=xgboost.XGBClassifier(min_child_weight= 3,max_depth= 15,learning_rate= 0.05,gamma= 0.3,colsample_bytree= 0.5)\n",
        "xgb_tuned1=xgboost.XGBClassifier(min_child_weight= 3,max_depth= 15,learning_rate= 0.05,gamma= 0.3,colsample_bytree= 0.5)"
      ],
      "metadata": {
        "id": "YO2kCQORl8iC"
      },
      "execution_count": 36,
      "outputs": []
    },
    {
      "cell_type": "code",
      "source": [
        "xgb_tuned.fit(x_train,y_train)"
      ],
      "metadata": {
        "id": "xSRnLW7il93K",
        "colab": {
          "base_uri": "https://localhost:8080/"
        },
        "outputId": "f74b0b6d-3813-4987-c4fb-7b12a558f1af"
      },
      "execution_count": 37,
      "outputs": [
        {
          "output_type": "execute_result",
          "data": {
            "text/plain": [
              "XGBClassifier(colsample_bytree=0.5, gamma=0.3, learning_rate=0.05, max_depth=15,\n",
              "              min_child_weight=3)"
            ]
          },
          "metadata": {},
          "execution_count": 37
        }
      ]
    },
    {
      "cell_type": "code",
      "source": [
        "ypredxgb=xgb_tuned.predict(x_val)\n",
        "print(classification_report(y_val,ypredxgb))\n",
        "cm = metrics.confusion_matrix(y_val, ypredxgb)\n",
        "print(cm)"
      ],
      "metadata": {
        "id": "8fetrTjUl_My",
        "colab": {
          "base_uri": "https://localhost:8080/"
        },
        "outputId": "59f2158f-4f8f-45c6-8f34-589891e3028b"
      },
      "execution_count": 38,
      "outputs": [
        {
          "output_type": "stream",
          "name": "stdout",
          "text": [
            "              precision    recall  f1-score   support\n",
            "\n",
            "           0       0.81      0.91      0.86       133\n",
            "           1       0.82      0.65      0.73        84\n",
            "\n",
            "    accuracy                           0.81       217\n",
            "   macro avg       0.81      0.78      0.79       217\n",
            "weighted avg       0.81      0.81      0.81       217\n",
            "\n",
            "[[121  12]\n",
            " [ 29  55]]\n"
          ]
        }
      ]
    },
    {
      "cell_type": "markdown",
      "source": [
        "The XGBoost algorithm performed marginally better than the previous two models, with an improvement in F1-score."
      ],
      "metadata": {
        "id": "y5CyUOU7Qi6b"
      }
    },
    {
      "cell_type": "markdown",
      "source": [
        "# Model 5: Soft Voting Classifier\n",
        "\n",
        "Soft Voting Classifier takes every individual classifier’s probability value that a specific data point belongs to a target class, and in our project — whether a person survives. The predicted are weighted by the classifier’s importance and summed up, after which the target label with the greatest sum of weighted probability wins the vote. \n",
        "\n",
        "In our project, a confusion matrix is created to determine the F1 score and the accuracy of the model."
      ],
      "metadata": {
        "id": "-ql76tu_VeWn"
      }
    },
    {
      "cell_type": "code",
      "source": [
        "vc=VotingClassifier(estimators=[('xgb',xgb_tuned1),('rf',grid_search)],voting=\"soft\")\n",
        "vc.fit(x_train,y_train)"
      ],
      "metadata": {
        "id": "OFgGti5EmSdI",
        "colab": {
          "base_uri": "https://localhost:8080/"
        },
        "outputId": "374dcf55-2f4a-4baf-8733-43c08327e5ed"
      },
      "execution_count": 39,
      "outputs": [
        {
          "output_type": "stream",
          "name": "stdout",
          "text": [
            "Fitting 3 folds for each of 288 candidates, totalling 864 fits\n"
          ]
        },
        {
          "output_type": "execute_result",
          "data": {
            "text/plain": [
              "VotingClassifier(estimators=[('xgb',\n",
              "                              XGBClassifier(colsample_bytree=0.5, gamma=0.3,\n",
              "                                            learning_rate=0.05, max_depth=15,\n",
              "                                            min_child_weight=3)),\n",
              "                             ('rf',\n",
              "                              GridSearchCV(cv=3,\n",
              "                                           estimator=RandomForestClassifier(),\n",
              "                                           n_jobs=-1,\n",
              "                                           param_grid={'bootstrap': [True],\n",
              "                                                       'max_depth': [80, 90,\n",
              "                                                                     100, 110],\n",
              "                                                       'max_features': [2, 3],\n",
              "                                                       'min_samples_leaf': [3,\n",
              "                                                                            4,\n",
              "                                                                            5],\n",
              "                                                       'min_samples_split': [8,\n",
              "                                                                             10,\n",
              "                                                                             12],\n",
              "                                                       'n_estimators': [100,\n",
              "                                                                        200,\n",
              "                                                                        300,\n",
              "                                                                        1000]},\n",
              "                                           verbose=2))],\n",
              "                 voting='soft')"
            ]
          },
          "metadata": {},
          "execution_count": 39
        }
      ]
    },
    {
      "cell_type": "code",
      "source": [
        "vcpred=vc.predict(x_val)"
      ],
      "metadata": {
        "id": "3jZ1l4L4nG40"
      },
      "execution_count": 40,
      "outputs": []
    },
    {
      "cell_type": "code",
      "source": [
        "print(classification_report(y_val,vcpred))\n",
        "cm = metrics.confusion_matrix(y_val, vcpred)\n",
        "print(cm)"
      ],
      "metadata": {
        "id": "CCdIkT3JnLvc",
        "colab": {
          "base_uri": "https://localhost:8080/"
        },
        "outputId": "c84507f2-80e7-4ea4-89a6-4c0281525e75"
      },
      "execution_count": 41,
      "outputs": [
        {
          "output_type": "stream",
          "name": "stdout",
          "text": [
            "              precision    recall  f1-score   support\n",
            "\n",
            "           0       0.80      0.92      0.86       133\n",
            "           1       0.84      0.64      0.73        84\n",
            "\n",
            "    accuracy                           0.82       217\n",
            "   macro avg       0.82      0.78      0.79       217\n",
            "weighted avg       0.82      0.82      0.81       217\n",
            "\n",
            "[[123  10]\n",
            " [ 30  54]]\n"
          ]
        }
      ]
    },
    {
      "cell_type": "markdown",
      "source": [
        "# Model 6: Neural Network \n",
        "\n",
        "Neural Network is a method in artificial intelligence that uses interconnected nodes or neurons, with hidden layers to train a model. \n",
        "\n",
        "In our project, we chose the Keras deep learning framework with relu and sigmoid activation layers to train the model. The loss function and binary accuracy graphs have also been plotted to illustrate the decrease and increase respectively with each epoch."
      ],
      "metadata": {
        "id": "CBHauI6PVqly"
      }
    },
    {
      "cell_type": "code",
      "source": [
        "model = keras.Sequential([\n",
        "    keras.Input(shape=(5,)),\n",
        "    keras.layers.Dense(units=6),\n",
        "    keras.layers.Activation(keras.activations.relu),\n",
        "    keras.layers.Dense(units=4),\n",
        "    keras.layers.Activation(keras.activations.relu),\n",
        "    keras.layers.Dense(units=1),\n",
        "    keras.layers.Activation(keras.activations.sigmoid),\n",
        "])"
      ],
      "metadata": {
        "id": "dNWAhbEvnMqm"
      },
      "execution_count": 45,
      "outputs": []
    },
    {
      "cell_type": "code",
      "source": [
        "opt = tf.optimizers.SGD(learning_rate=0.01)\n",
        "model.compile(loss='binary_crossentropy', optimizer=opt, metrics=['binary_accuracy'])\n",
        "history = model.fit(x_train,y_train,epochs = 10, batch_size = 10,validation_data=(x_val, y_val))\n",
        "history_frame = pd.DataFrame(history.history)\n",
        "history_frame.loc[:, ['loss']].plot()\n",
        "history_frame.loc[:, ['binary_accuracy']].plot();"
      ],
      "metadata": {
        "id": "dDvqjtARq6nZ",
        "colab": {
          "base_uri": "https://localhost:8080/",
          "height": 860
        },
        "outputId": "055d0ffb-c20e-4ff0-af75-59d3b0178b4d"
      },
      "execution_count": 46,
      "outputs": [
        {
          "output_type": "stream",
          "name": "stdout",
          "text": [
            "Epoch 1/10\n",
            "65/65 [==============================] - 1s 5ms/step - loss: 0.7479 - binary_accuracy: 0.6148 - val_loss: 0.6729 - val_binary_accuracy: 0.6313\n",
            "Epoch 2/10\n",
            "65/65 [==============================] - 0s 3ms/step - loss: 0.6967 - binary_accuracy: 0.6256 - val_loss: 0.6462 - val_binary_accuracy: 0.6498\n",
            "Epoch 3/10\n",
            "65/65 [==============================] - 0s 2ms/step - loss: 0.6707 - binary_accuracy: 0.6348 - val_loss: 0.6330 - val_binary_accuracy: 0.6544\n",
            "Epoch 4/10\n",
            "65/65 [==============================] - 0s 3ms/step - loss: 0.6554 - binary_accuracy: 0.6317 - val_loss: 0.6241 - val_binary_accuracy: 0.6636\n",
            "Epoch 5/10\n",
            "65/65 [==============================] - 0s 3ms/step - loss: 0.6438 - binary_accuracy: 0.6364 - val_loss: 0.6176 - val_binary_accuracy: 0.6636\n",
            "Epoch 6/10\n",
            "65/65 [==============================] - 0s 2ms/step - loss: 0.6352 - binary_accuracy: 0.6410 - val_loss: 0.6110 - val_binary_accuracy: 0.6774\n",
            "Epoch 7/10\n",
            "65/65 [==============================] - 0s 3ms/step - loss: 0.6264 - binary_accuracy: 0.6502 - val_loss: 0.6041 - val_binary_accuracy: 0.6866\n",
            "Epoch 8/10\n",
            "65/65 [==============================] - 0s 3ms/step - loss: 0.6186 - binary_accuracy: 0.6641 - val_loss: 0.5970 - val_binary_accuracy: 0.7005\n",
            "Epoch 9/10\n",
            "65/65 [==============================] - 0s 3ms/step - loss: 0.6115 - binary_accuracy: 0.6826 - val_loss: 0.5897 - val_binary_accuracy: 0.7005\n",
            "Epoch 10/10\n",
            "65/65 [==============================] - 0s 3ms/step - loss: 0.6033 - binary_accuracy: 0.6810 - val_loss: 0.5850 - val_binary_accuracy: 0.7235\n"
          ]
        },
        {
          "output_type": "display_data",
          "data": {
            "text/plain": [
              "<Figure size 432x288 with 1 Axes>"
            ],
            "image/png": "[encoded data removed]"
          },
          "metadata": {
            "needs_background": "light"
          }
        },
        {
          "output_type": "display_data",
          "data": {
            "text/plain": [
              "<Figure size 432x288 with 1 Axes>"
            ],
            "image/png": "[encoded data removed]"
          },
          "metadata": {
            "needs_background": "light"
          }
        }
      ]
    },
    {
      "cell_type": "code",
      "source": [
        "y_pred = np.round(model.predict(x_val)).astype(int)\n",
        "f1 = f1_score(y_val, y_pred)\n",
        "print(f1)\n",
        "matrix = metrics.confusion_matrix(y_val, y_pred)\n",
        "print(matrix)"
      ],
      "metadata": {
        "colab": {
          "base_uri": "https://localhost:8080/"
        },
        "id": "gHqJ1q8Ujfcu",
        "outputId": "35404848-c5b0-4230-97eb-a45720064349"
      },
      "execution_count": 47,
      "outputs": [
        {
          "output_type": "stream",
          "name": "stdout",
          "text": [
            "7/7 [==============================] - 0s 2ms/step\n",
            "0.45454545454545453\n",
            "[[132   1]\n",
            " [ 59  25]]\n"
          ]
        }
      ]
    },
    {
      "cell_type": "markdown",
      "source": [
        "![image.png](data:image/png;base64,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)"
      ],
      "metadata": {
        "id": "sHqpXeiv0_l5"
      }
    },
    {
      "cell_type": "markdown",
      "source": [
        "A Flowchart of the solution process"
      ],
      "metadata": {
        "id": "putk2uwG2anK"
      }
    },
    {
      "cell_type": "markdown",
      "source": [
        "# Conclusion\n",
        "\n",
        "By using the various Machine Learning algorithms, we managed to predict the probability of survival given the different characteristics. Out of the 6 models we have experimented with, the Soft Voting Classifier produced the best results in terms of F1-score. We find that accuracy, while important, may not always be the best metric for evaluating performance, and this is due to the imbalanced data as most people in the dataset did not survive the disaster."
      ],
      "metadata": {
        "id": "Nx7zDbeC0_eU"
      }
    }
  ]
}